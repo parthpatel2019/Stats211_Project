{
 "cells": [
  {
   "cell_type": "code",
   "execution_count": null,
   "metadata": {},
   "outputs": [],
   "source": [
    "import pandas as pd\n",
    "import numpy as np\n",
    "import matplotlib.pyplot as plt\n",
    "from statsmodels.tsa.stattools import adfuller\n",
    "import datetime as dt\n",
    "from pylab import rcParams\n",
    "import statsmodels.api as sm\n",
    "from statsmodels.graphics.tsaplots import plot_pacf\n",
    "from statsmodels.graphics.tsaplots import plot_acf\n",
    "from statsmodels.tsa.statespace.sarimax import SARIMAX\n",
    "from sklearn.metrics import mean_absolute_error, mean_squared_error\n",
    "import cpi\n",
    "import warnings\n",
    "warnings.filterwarnings(\"ignore\")\n"
   ]
  },
  {
   "cell_type": "markdown",
   "metadata": {},
   "source": [
    "# Initialize Data"
   ]
  },
  {
   "cell_type": "code",
   "execution_count": null,
   "metadata": {},
   "outputs": [],
   "source": [
    "raw_data = pd.read_csv('MedianSalePrice.csv')\n",
    "raw_data = raw_data[(raw_data['StateName'] == 'IL') & (raw_data['RegionName'] == 'Chicago, IL')]\n",
    "raw_data = raw_data.iloc[:, 6:]\n",
    "raw_data = np.transpose(raw_data)\n",
    "raw_data.columns = ['Raw Median Sale Price']\n",
    "raw_data.index = pd.to_datetime(raw_data.index)\n",
    "raw_data = raw_data[256:725]\n",
    "raw_data.plot(figsize=(20, 5))\n",
    "plt.grid()\n",
    "plt.legend(loc='best')\n",
    "plt.title('Raw Data')\n",
    "plt.show(block=False)\n",
    "raw_data['raw_date'] = raw_data.index\n",
    "raw_data[[\"Year\", \"Month\", \"Day\"]] = raw_data['raw_date'].astype(\"string\").str.split(\"-\", expand=True)\n",
    "raw_data['Year'] = raw_data['Year'].astype(int)\n",
    "\n",
    "\n",
    "def inflate_column(data, column):\n",
    "    \"\"\"\n",
    "    Adjust for inflation the series of values in column of the   \n",
    "    dataframe data\n",
    "    \"\"\"\n",
    "    return data.apply(lambda x: cpi.inflate(x[column], x['Year'], to=2021), axis=1)\n",
    "\n",
    "\n",
    "raw_data['Inflation-Adjusted Median Sale Price'] = inflate_column(raw_data, 'Raw Median Sale Price')\n",
    "raw_data[['Raw Median Sale Price','Inflation-Adjusted Median Sale Price']].plot(figsize=(20, 5))\n",
    "plt.grid()\n",
    "plt.legend(loc='best')\n",
    "plt.title('Inflation-Adjusted Data vs Raw Data')\n",
    "plt.show(block=False)\n",
    "train_data = raw_data[:417]\n",
    "train_data = train_data[['Inflation-Adjusted Median Sale Price']]\n",
    "test_data = raw_data[417-52:]\n",
    "test_data = test_data[['Inflation-Adjusted Median Sale Price']]"
   ]
  },
  {
   "cell_type": "code",
   "execution_count": null,
   "metadata": {},
   "outputs": [],
   "source": [
    "train_data"
   ]
  },
  {
   "cell_type": "code",
   "execution_count": null,
   "metadata": {},
   "outputs": [],
   "source": [
    "test_data"
   ]
  },
  {
   "cell_type": "markdown",
   "metadata": {},
   "source": [
    "# Raw Data"
   ]
  },
  {
   "cell_type": "code",
   "execution_count": null,
   "metadata": {},
   "outputs": [],
   "source": [
    "# train_data.plot(figsize=(20, 5))\n",
    "# plt.grid()\n",
    "# plt.legend(loc='best')\n",
    "# plt.title('Inflation Adjusted - Training Data')\n",
    "# plt.show(block=False)"
   ]
  },
  {
   "cell_type": "code",
   "execution_count": null,
   "metadata": {},
   "outputs": [],
   "source": [
    "train_data"
   ]
  },
  {
   "cell_type": "markdown",
   "metadata": {},
   "source": [
    "# Fit Linear Model and get residuals"
   ]
  },
  {
   "cell_type": "code",
   "execution_count": null,
   "metadata": {},
   "outputs": [],
   "source": [
    "train_data['Date'] = train_data.index\n",
    "train_data['Date'] = train_data['Date'].map(dt.datetime.toordinal)\n",
    "# Fit Polynomial Regression\n",
    "reg = np.poly1d(np.polyfit(train_data['Date'], train_data['Inflation-Adjusted Median Sale Price'], 3))\n",
    "print(reg)\n",
    "train_data['Polynomial Regression Fit'] = reg(train_data['Date'])\n",
    "train_data[['Inflation-Adjusted Median Sale Price', 'Polynomial Regression Fit']].plot(figsize=(20, 5))\n",
    "plt.grid()\n",
    "plt.legend(loc='best')\n",
    "plt.title('Inflation-Adjusted Median Sale Price vs. Polynomial Model')\n",
    "plt.show(block=False)"
   ]
  },
  {
   "cell_type": "markdown",
   "metadata": {},
   "source": [
    "# Residuals"
   ]
  },
  {
   "cell_type": "code",
   "execution_count": null,
   "metadata": {},
   "outputs": [],
   "source": [
    "train_data['Residuals'] = train_data['Inflation-Adjusted Median Sale Price'] - train_data['Polynomial Regression Fit']\n",
    "train_data[['Residuals']].plot(figsize=(20, 5))\n",
    "plt.grid()\n",
    "plt.legend(loc='best')\n",
    "plt.title('Residuals')\n",
    "plt.show(block=False)"
   ]
  },
  {
   "cell_type": "markdown",
   "metadata": {},
   "source": [
    "# Remove 52 week cycle based on spectrum"
   ]
  },
  {
   "cell_type": "code",
   "execution_count": null,
   "metadata": {},
   "outputs": [],
   "source": [
    "train_data['Diff'] = train_data['Residuals'].diff(52)\n",
    "removed_train_data = train_data[:52]\n",
    "train_data = train_data[52:]\n",
    "train_data[['Diff']].plot(figsize=(20, 5))\n",
    "plt.grid()\n",
    "plt.legend(loc='best')\n",
    "plt.title('Yearly Cycle and Polynomial Trend Removed')\n",
    "plt.show(block=False)\n"
   ]
  },
  {
   "cell_type": "code",
   "execution_count": null,
   "metadata": {},
   "outputs": [],
   "source": [
    "# train_data['Diff'] = train_data['Residuals'].diff(1)\n",
    "# removed_train_data = train_data[:1]\n",
    "# train_data = train_data[1:]\n",
    "# train_data[['Diff']].plot(figsize=(20, 5))\n",
    "# plt.grid()\n",
    "# plt.legend(loc='best')\n",
    "# plt.title('Diff')\n",
    "# plt.show(block=False)\n",
    "\n",
    "# train_data['Diff'] = train_data['Residuals']\n"
   ]
  },
  {
   "cell_type": "markdown",
   "metadata": {},
   "source": [
    "# Stationary"
   ]
  },
  {
   "cell_type": "code",
   "execution_count": null,
   "metadata": {},
   "outputs": [],
   "source": [
    "adfuller(train_data['Diff'])"
   ]
  },
  {
   "cell_type": "markdown",
   "metadata": {},
   "source": [
    "# Analyze Residuals"
   ]
  },
  {
   "cell_type": "code",
   "execution_count": null,
   "metadata": {},
   "outputs": [],
   "source": [
    "rcParams['figure.figsize'] = 20, 10\n",
    "decomposition = sm.tsa.seasonal_decompose(train_data['Diff'], model='additive')  # additive seasonal index\n",
    "fig = decomposition.plot()\n",
    "plt.show()\n"
   ]
  },
  {
   "cell_type": "markdown",
   "metadata": {},
   "source": [
    "# Plot PACF and ACF"
   ]
  },
  {
   "cell_type": "code",
   "execution_count": null,
   "metadata": {},
   "outputs": [],
   "source": [
    "plt.figure(figsize=(20, 5))\n",
    "plt.grid()\n",
    "plot_acf(train_data['Diff'], ax=plt.gca(), lags=15, zero=False)\n",
    "plt.show()\n",
    "plt.figure(figsize=(20, 5))\n",
    "plt.grid()\n",
    "plot_pacf(train_data['Diff'], ax=plt.gca(), lags=15, method='ywm', zero=False)\n",
    "plt.show()\n"
   ]
  },
  {
   "cell_type": "markdown",
   "metadata": {},
   "source": [
    "# Train ARIMA Model"
   ]
  },
  {
   "cell_type": "code",
   "execution_count": null,
   "metadata": {},
   "outputs": [],
   "source": [
    "train_data_arima = train_data[['Diff']]"
   ]
  },
  {
   "cell_type": "code",
   "execution_count": null,
   "metadata": {},
   "outputs": [],
   "source": [
    "# Train ARIMA Model\n",
    "scoring = []\n",
    "for p in np.arange(0,10,1):\n",
    "        for q in np.arange(0, 10, 1):\n",
    "            try:\n",
    "                model = SARIMAX(train_data_arima, order=(p, 0, q)).fit()\n",
    "                scoring.append((p,q,model.aic, model.bic))\n",
    "            except:\n",
    "                pass\n",
    "scoring.sort(key = lambda x: x[2])\n",
    "print(scoring[:10])\n",
    "# # Predict Data\n",
    "model = SARIMAX(train_data_arima, order=(4, 0, 3)).fit()\n",
    "plot_data = train_data_arima.copy()\n",
    "plot_data['Residuals_Predictions'] = model.predict().tolist()\n",
    "plot_data = plot_data[1:]\n",
    "# Plot Prediction\n",
    "plot_data.plot(figsize=(20, 5))\n",
    "plt.grid()\n",
    "plt.legend(loc='best')\n",
    "plt.title('Comparison between actual and predicted residuals')\n",
    "plt.show(block=False)\n"
   ]
  },
  {
   "cell_type": "code",
   "execution_count": null,
   "metadata": {},
   "outputs": [],
   "source": [
    "print(model.polynomial_ar)\n",
    "print(model.polynomial_ma)"
   ]
  },
  {
   "cell_type": "code",
   "execution_count": null,
   "metadata": {},
   "outputs": [],
   "source": [
    "print(\"MAE: \", mean_absolute_error(plot_data['Diff'], plot_data['Residuals_Predictions']))\n",
    "print(\"RMSE: \", np.sqrt(mean_squared_error(plot_data['Diff'], plot_data['Residuals_Predictions'])))\n"
   ]
  },
  {
   "cell_type": "markdown",
   "metadata": {},
   "source": [
    "# Test Set"
   ]
  },
  {
   "cell_type": "code",
   "execution_count": null,
   "metadata": {},
   "outputs": [],
   "source": [
    "train_data.mean()"
   ]
  },
  {
   "cell_type": "code",
   "execution_count": null,
   "metadata": {},
   "outputs": [],
   "source": [
    "# # train_data.mean()  # 243959.484307\n",
    "# test_data['Mean'] = [train_data.mean()[0]] * len(test_data)\n",
    "# test_data['Polynomial Regression Prediction'] = reg(test_data.index.map(dt.datetime.toordinal))\n",
    "# test_data['Residuals'] = test_data['Inflation-Adjusted Median Sale Price'] - test_data['Polynomial Regression Prediction']\n",
    "# test_data['Diff'] = test_data['Residuals'].diff(52)\n",
    "\n",
    "# training_samples = len(train_data)\n",
    "# testing_samples = len(test_data[52:])\n",
    "# frames = [train_data[['Diff']], test_data[['Diff']][52:]]\n",
    "# total_frame = pd.concat(frames)\n",
    "# predictions = [float(\"NaN\")] * 52\n",
    "# for i in range(0, testing_samples):\n",
    "#     model = SARIMAX(total_frame[:training_samples+i],order=(9, 0, 9)).fit()\n",
    "#     predictions.append(model.forecast()[0])\n",
    "# test_data['Diff_Predictions'] = predictions\n",
    "# x, x_diff = test_data['Residuals'].iloc[0:52], test_data['Diff_Predictions'].iloc[52:]\n",
    "# test_data['Residuals_Predictions'] = np.r_[x, x_diff].cumsum().astype(int)\n",
    "# test_data['Overall_Predictions'] = test_data['Residuals_Predictions'] + test_data['Polynomial Regression Prediction']\n",
    "# og_data = test_data\n",
    "\n",
    "# train_data.mean()  # 243959.484307\n",
    "test_data['Mean'] = [train_data.mean()[0]] * len(test_data)\n",
    "test_data['Polynomial Regression Prediction'] = reg(\n",
    "    test_data.index.map(dt.datetime.toordinal))\n",
    "test_data['Residuals'] = test_data['Inflation-Adjusted Median Sale Price'] - \\\n",
    "    test_data['Polynomial Regression Prediction']\n",
    "test_data['Diff'] = test_data['Residuals'].diff(52)\n",
    "\n",
    "training_samples = len(train_data)\n",
    "testing_samples = len(test_data[52:])\n",
    "frames = [train_data[['Diff']], test_data[['Diff']][52:]]\n",
    "total_frame = pd.concat(frames)\n",
    "predictions = [float(\"NaN\")] * 52\n",
    "for i in range(0, testing_samples):\n",
    "    model = SARIMAX(total_frame[:training_samples+i], order=(9, 0, 9)).fit()\n",
    "    test_data['Diff_Predictions'] = (model.forecast(len(test_data[52:])))\n",
    "    break\n",
    "# test_data['Diff_Predictions'] = predictions\n",
    "x, x_diff = test_data['Residuals'].iloc[0:52], test_data['Diff_Predictions'].iloc[52:]\n",
    "test_data['Residuals_Predictions'] = np.r_[x, x_diff].cumsum().astype(int)\n",
    "test_data['Overall_Predictions'] = test_data['Residuals_Predictions'] + \\\n",
    "    test_data['Polynomial Regression Prediction']\n",
    "og_data = test_data\n"
   ]
  },
  {
   "cell_type": "code",
   "execution_count": null,
   "metadata": {},
   "outputs": [],
   "source": [
    "og_data = test_data[52:52+4]\n",
    "og_data[['Inflation-Adjusted Median Sale Price', 'Overall_Predictions']].plot()"
   ]
  },
  {
   "cell_type": "code",
   "execution_count": null,
   "metadata": {},
   "outputs": [],
   "source": [
    "# og_data = test_data\n",
    "print(\"Mean\")\n",
    "print(\"MAE: \", mean_absolute_error(og_data ['Inflation-Adjusted Median Sale Price'], og_data ['Mean']))\n",
    "print(\"RMSE: \", np.sqrt(mean_squared_error(og_data ['Inflation-Adjusted Median Sale Price'],og_data ['Mean'])))\n",
    "print(\"Polynomial\")\n",
    "print(\"MAE: \", mean_absolute_error(og_data ['Inflation-Adjusted Median Sale Price'], og_data ['Polynomial Regression Prediction']))\n",
    "print(\"RMSE: \", np.sqrt(mean_squared_error(og_data ['Inflation-Adjusted Median Sale Price'], og_data ['Polynomial Regression Prediction'])))\n",
    "print(\"ARIMA\")\n",
    "print(\"MAE: \", mean_absolute_error(og_data ['Inflation-Adjusted Median Sale Price'], og_data ['Overall_Predictions']))\n",
    "print(\"RMSE: \", np.sqrt(mean_squared_error(og_data ['Inflation-Adjusted Median Sale Price'], og_data ['Overall_Predictions'])))\n"
   ]
  },
  {
   "cell_type": "markdown",
   "metadata": {},
   "source": [
    "# Add Linear Regression Back In"
   ]
  },
  {
   "cell_type": "code",
   "execution_count": null,
   "metadata": {},
   "outputs": [],
   "source": [
    "prediction_data = plot_data.copy()\n",
    "prediction_data['Linear_Regression_Predictions'] = reg(np.array(train_data['Date'][1:]).reshape(-1, 1))\n",
    "prediction_data['Predictions'] = prediction_data['Linear_Regression_Predictions'] + prediction_data['Residuals_Predictions']\n",
    "prediction_data['Truth_Value'] = train_data['normalized_sale_price'][1:]\n",
    "# Plot Prediction\n",
    "prediction_data[['Predictions', 'Truth_Value']].plot(figsize=(20, 5))\n",
    "plt.grid()\n",
    "plt.legend(loc='best')\n",
    "plt.title('Comparison between Predicted Median Sale Price')\n",
    "plt.show(block=False)\n",
    "print(\"MAE: \", mean_absolute_error(prediction_data['Truth_Value'], prediction_data['Predictions']))\n",
    "print(\"RMSE: \", np.sqrt(mean_squared_error(prediction_data['Truth_Value'], prediction_data['Predictions'])))\n"
   ]
  },
  {
   "cell_type": "code",
   "execution_count": null,
   "metadata": {},
   "outputs": [],
   "source": []
  }
 ],
 "metadata": {
  "kernelspec": {
   "display_name": "Python 3.8.10 ('machineLearning')",
   "language": "python",
   "name": "python3"
  },
  "language_info": {
   "codemirror_mode": {
    "name": "ipython",
    "version": 3
   },
   "file_extension": ".py",
   "mimetype": "text/x-python",
   "name": "python",
   "nbconvert_exporter": "python",
   "pygments_lexer": "ipython3",
   "version": "3.8.10"
  },
  "orig_nbformat": 4,
  "vscode": {
   "interpreter": {
    "hash": "8980d6c1a0cde5b7b8e44f9a52aff7f9105e341b192603366e15e457a3016fc5"
   }
  }
 },
 "nbformat": 4,
 "nbformat_minor": 2
}
